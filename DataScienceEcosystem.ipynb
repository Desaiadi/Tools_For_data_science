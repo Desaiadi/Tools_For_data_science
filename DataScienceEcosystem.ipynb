{
 "cells": [
  {
   "cell_type": "markdown",
   "id": "0dec70b4-1a15-4d82-af83-44d22d5293b0",
   "metadata": {},
   "source": [
    "# Data Science Tools and Ecosystem\n"
   ]
  },
  {
   "cell_type": "markdown",
   "id": "2c903a35-fadb-416e-a07d-670c37b79c66",
   "metadata": {},
   "source": [
    "In this notebook, Data Science Tools and Ecosystem are summarized."
   ]
  },
  {
   "cell_type": "markdown",
   "id": "d100758a-d6b6-4b19-b295-a2ef38acb12b",
   "metadata": {
    "tags": []
   },
   "source": [
    "**Objectives:**\n",
    "\n",
    "- List popular languages for Data Science.\n",
    "- Introduce common libraries used in Data Science.\n",
    "- Perform arithmetic expressions in Python.\n",
    "- Convert minutes to hours using Python.\n",
    "- Explore and understand Data Science tools and environments.\n"
   ]
  },
  {
   "cell_type": "markdown",
   "id": "a5221e5d-f489-419e-93cd-2b0a66062511",
   "metadata": {},
   "source": [
    "Some of the popular languages that Data Scientists use are:\n",
    "\n",
    "1. Python\n",
    "2. R\n",
    "3. SQL\n"
   ]
  },
  {
   "cell_type": "markdown",
   "id": "3ab17b19-b423-44bb-bf41-8a0e121dea53",
   "metadata": {},
   "source": [
    "Some of the commonly used libraries used by Data Scientists include:\n",
    "\n",
    "1. NumPy\n",
    "2. pandas\n",
    "3. scikit-learn\n"
   ]
  },
  {
   "cell_type": "markdown",
   "id": "38f5d492-916e-42f6-aca0-945fb64ebed6",
   "metadata": {},
   "source": [
    "| Data Science Tools      |\n",
    "|-------------------------|\n",
    "| Jupyter Notebook        |\n",
    "| RStudio                 |\n",
    "| VS Code (Visual Studio Code) |\n"
   ]
  },
  {
   "cell_type": "markdown",
   "id": "88eaad9b-d8d9-466a-bba2-c385aa38ab40",
   "metadata": {},
   "source": [
    "### Below are a few examples of evaluating arithmetic expressions in Python\n",
    "\n",
    "Arithmetic expressions are fundamental in mathematics and programming. They involve various mathematical operations like addition, subtraction, multiplication, and division. These expressions allow us to perform calculations and manipulate numerical values.\n",
    "\n",
    "Here are some basic examples of arithmetic expressions:\n",
    "\n",
    "1. **Addition (+):**\n",
    "   - `2 + 3` equals 5.\n",
    "   - `10 + (-5)` equals 5.\n",
    "\n",
    "2. **Subtraction (-):**\n",
    "   - `7 - 4` equals 3.\n",
    "   - `20 - (-8)` equals 28.\n",
    "\n",
    "3. **Multiplication (*):**\n",
    "   - `5 * 6` equals 30.\n",
    "   - `-3 * 9` equals -27.\n",
    "\n",
    "4. **Division (/):**\n",
    "   - `10 / 2` equals 5.\n",
    "   - `15 / 4` equals 3.75.\n"
   ]
  },
  {
   "cell_type": "code",
   "execution_count": 1,
   "id": "e2090b4c-e7ac-4a13-9eb1-5106fba0bb6a",
   "metadata": {
    "tags": []
   },
   "outputs": [
    {
     "name": "stdout",
     "output_type": "stream",
     "text": [
      "Result: 17\n"
     ]
    }
   ],
   "source": [
    "# This is a simple arithmetic expression to multiply then add integers.\n",
    "result = (3 * 4) + 5\n",
    "\n",
    "# Display the result\n",
    "print(\"Result:\", result)\n"
   ]
  },
  {
   "cell_type": "code",
   "execution_count": 3,
   "id": "fb49f37c-eeb2-478c-8d5e-e873246487a8",
   "metadata": {
    "tags": []
   },
   "outputs": [
    {
     "name": "stdout",
     "output_type": "stream",
     "text": [
      "200 minutes is equal to 3.3333333333333335 hours\n"
     ]
    }
   ],
   "source": [
    "# This will convert 200 minutes to hours by dividing by 60.\n",
    "minutes = 200\n",
    "hours = minutes / 60\n",
    "\n",
    "# Display the result\n",
    "print(f\"{minutes} minutes is equal to {hours} hours\")\n"
   ]
  },
  {
   "cell_type": "markdown",
   "id": "56c3ae63-81d0-4394-abf4-03eb59916718",
   "metadata": {
    "tags": []
   },
   "source": [
    "## Author\n",
    "[Aditya Desai]\n"
   ]
  },
  {
   "cell_type": "code",
   "execution_count": null,
   "id": "02f81086-b399-4537-8e99-b92eb6251ed4",
   "metadata": {},
   "outputs": [],
   "source": []
  }
 ],
 "metadata": {
  "kernelspec": {
   "display_name": "Python",
   "language": "python",
   "name": "conda-env-python-py"
  },
  "language_info": {
   "codemirror_mode": {
    "name": "ipython",
    "version": 3
   },
   "file_extension": ".py",
   "mimetype": "text/x-python",
   "name": "python",
   "nbconvert_exporter": "python",
   "pygments_lexer": "ipython3",
   "version": "3.7.12"
  }
 },
 "nbformat": 4,
 "nbformat_minor": 5
}
